{
 "cells": [
  {
   "cell_type": "markdown",
   "metadata": {},
   "source": [
    "# Deep Hedging pipeline"
   ]
  },
  {
   "cell_type": "markdown",
   "metadata": {},
   "source": [
    "## Evironment setup"
   ]
  },
  {
   "cell_type": "markdown",
   "metadata": {},
   "source": [
    "Setup the general environment"
   ]
  },
  {
   "cell_type": "code",
   "execution_count": 3,
   "metadata": {},
   "outputs": [],
   "source": [
    "import os, sys\n",
    "from pathlib import Path\n",
    "\n",
    "main_folder = str(Path.cwd().parent)\n",
    "sys.path.append(main_folder)\n",
    "\n",
    "import warnings\n",
    "warnings.filterwarnings(\"ignore\")"
   ]
  },
  {
   "cell_type": "markdown",
   "metadata": {},
   "source": [
    "## Simulation of NIG random values"
   ]
  },
  {
   "cell_type": "markdown",
   "metadata": {},
   "source": [
    "Simulation of standard NIG random variables for the JIVR model"
   ]
  },
  {
   "cell_type": "code",
   "execution_count": 2,
   "metadata": {},
   "outputs": [
    {
     "name": "stdout",
     "output_type": "stream",
     "text": [
      "--Generating grid for NIG interpolation--\n",
      "--NIG simulation starts--\n",
      "--Progress of NIG simulation: 100.00%\n",
      "--Simulation completed - NIG values stored in ../data/raw/--\n"
     ]
    }
   ],
   "source": [
    "from src.utils import *\n",
    "from src.features.nig_simulation import *\n",
    "\n",
    "config_file = load_config(os.path.join(main_folder,'cfgs','config_simulation.yml'))\n",
    "nig_simulation(config_file)"
   ]
  },
  {
   "cell_type": "markdown",
   "metadata": {},
   "source": [
    "## JIVR Simulation"
   ]
  },
  {
   "cell_type": "markdown",
   "metadata": {},
   "source": [
    "Simulation of JIVR features\n",
    "\n",
    "**Remark**: This segment of the pipeline assumes that the NIG random variables have already been simulated."
   ]
  },
  {
   "cell_type": "code",
   "execution_count": 4,
   "metadata": {},
   "outputs": [
    {
     "name": "stdout",
     "output_type": "stream",
     "text": [
      "-- JIVR simulation starts --\n",
      "--Progress of JIVR simulation: 100.00%\n",
      "--Simulation of JIVR features completed--\n",
      "-- Simulation of stock price --\n",
      "-- Simulation completed - JIVR features stored in ../data/processed/--\n"
     ]
    }
   ],
   "source": [
    "from src.utils import *\n",
    "from src.features.jivr_simulation import *\n",
    "\n",
    "config_file = load_config(os.path.join(main_folder,'cfgs','config_simulation.yml'))\n",
    "jivr_model = implied_volatily_surface_vec(config_file)\n",
    "jivr_model.jivr_simulation()"
   ]
  },
  {
   "cell_type": "markdown",
   "metadata": {},
   "source": [
    "## Deep Hedging "
   ]
  },
  {
   "cell_type": "markdown",
   "metadata": {},
   "source": [
    "Deep RL agent training and hedging strategy generation\n",
    "\n",
    "**Remark**: This segment of the pipeline assumes that the JIVR features have already been simulated."
   ]
  },
  {
   "cell_type": "code",
   "execution_count": 4,
   "metadata": {},
   "outputs": [
    {
     "name": "stdout",
     "output_type": "stream",
     "text": [
      "-------------------------------------------------------------\n",
      "RNNFNN_Reduced_2_dropout_50_CVaR_95_TC_0_Call_ATM_CashC_100\n",
      "-------------------------------------------------------------\n",
      "---Training start---\n",
      "Saved\n",
      "Time elapsed: 0:04:21.814948\n",
      "Epoch 1, CVaR, Train: 6.836 Valid: 6.004\n",
      "Saved\n",
      "Time elapsed: 0:08:31.743285\n",
      "Epoch 2, CVaR, Train: 5.832 Valid: 5.844\n",
      "Saved\n",
      "Time elapsed: 0:12:41.857082\n",
      "Epoch 3, CVaR, Train: 5.107 Valid: 4.176\n",
      "Saved\n",
      "Time elapsed: 0:16:55.036456\n",
      "Epoch 4, CVaR, Train: 3.371 Valid: 2.980\n",
      "Saved\n",
      "Time elapsed: 0:21:06.928851\n",
      "Epoch 5, CVaR, Train: 2.262 Valid: 1.977\n",
      "Saved\n",
      "Time elapsed: 0:25:22.121757\n",
      "Epoch 6, CVaR, Train: 1.886 Valid: 1.681\n",
      "Saved\n",
      "Time elapsed: 0:29:34.702716\n",
      "Epoch 7, CVaR, Train: 1.780 Valid: 1.633\n",
      "Saved\n",
      "Time elapsed: 0:33:53.290238\n",
      "Epoch 8, CVaR, Train: 1.686 Valid: 1.570\n",
      "Saved\n",
      "Time elapsed: 0:38:08.082083\n",
      "Epoch 9, CVaR, Train: 1.623 Valid: 1.489\n",
      "Time elapsed: 0:42:20.787092\n",
      "Epoch 10, CVaR, Train: 1.576 Valid: 1.541\n",
      "Saved\n",
      "Time elapsed: 0:46:30.217885\n",
      "Epoch 11, CVaR, Train: 1.578 Valid: 1.467\n",
      "Saved\n",
      "Time elapsed: 0:50:43.722794\n",
      "Epoch 12, CVaR, Train: 1.583 Valid: 1.438\n",
      "Time elapsed: 0:54:52.047024\n",
      "Epoch 13, CVaR, Train: 1.447 Valid: 1.589\n",
      "Saved\n",
      "Time elapsed: 0:59:01.937533\n",
      "Epoch 14, CVaR, Train: 1.487 Valid: 1.375\n",
      "Time elapsed: 1:03:08.249870\n",
      "Epoch 15, CVaR, Train: 1.479 Valid: 1.405\n",
      "Time elapsed: 1:07:14.885379\n",
      "Epoch 16, CVaR, Train: 1.452 Valid: 1.393\n",
      "Time elapsed: 1:11:19.110910\n",
      "Epoch 17, CVaR, Train: 1.411 Valid: 1.486\n",
      "Time elapsed: 1:15:24.396706\n",
      "Epoch 18, CVaR, Train: 1.419 Valid: 1.416\n",
      "Saved\n",
      "Time elapsed: 1:19:30.916386\n",
      "Epoch 19, CVaR, Train: 1.443 Valid: 1.335\n",
      "Saved\n",
      "Time elapsed: 1:23:37.478568\n",
      "Epoch 20, CVaR, Train: 1.402 Valid: 1.322\n",
      "Saved\n",
      "Time elapsed: 1:27:44.177467\n",
      "Epoch 21, CVaR, Train: 1.407 Valid: 1.317\n",
      "Time elapsed: 1:31:48.408801\n",
      "Epoch 22, CVaR, Train: 1.413 Valid: 1.338\n",
      "Saved\n",
      "Time elapsed: 1:35:53.636838\n",
      "Epoch 23, CVaR, Train: 1.402 Valid: 1.305\n",
      "Time elapsed: 1:39:45.703145\n",
      "Epoch 24, CVaR, Train: 1.371 Valid: 1.445\n",
      "Time elapsed: 1:43:59.386179\n",
      "Epoch 25, CVaR, Train: 1.387 Valid: 1.359\n",
      "Time elapsed: 1:48:01.755489\n",
      "Epoch 26, CVaR, Train: 1.346 Valid: 1.365\n",
      "Time elapsed: 1:52:04.997597\n",
      "Epoch 27, CVaR, Train: 1.382 Valid: 1.460\n",
      "Time elapsed: 1:56:06.444415\n",
      "Epoch 28, CVaR, Train: 1.375 Valid: 1.354\n",
      "Time elapsed: 2:00:13.879109\n",
      "Epoch 29, CVaR, Train: 1.355 Valid: 1.313\n",
      "Saved\n",
      "Time elapsed: 2:04:18.158915\n",
      "Epoch 30, CVaR, Train: 1.340 Valid: 1.284\n",
      "Time elapsed: 2:08:22.642765\n",
      "Epoch 31, CVaR, Train: 1.370 Valid: 1.398\n",
      "Time elapsed: 2:12:56.162762\n",
      "Epoch 32, CVaR, Train: 1.346 Valid: 1.330\n",
      "Time elapsed: 2:17:55.389627\n",
      "Epoch 33, CVaR, Train: 1.340 Valid: 1.338\n",
      "Time elapsed: 2:23:38.033622\n",
      "Epoch 34, CVaR, Train: 1.366 Valid: 1.504\n",
      "Time elapsed: 2:29:49.642599\n",
      "Epoch 35, CVaR, Train: 1.327 Valid: 1.285\n",
      "Time elapsed: 2:36:12.959116\n",
      "Epoch 36, CVaR, Train: 1.305 Valid: 1.301\n",
      "Saved\n",
      "Time elapsed: 2:42:30.614874\n",
      "Epoch 37, CVaR, Train: 1.413 Valid: 1.273\n",
      "Time elapsed: 2:48:25.777051\n",
      "Epoch 38, CVaR, Train: 1.345 Valid: 1.298\n",
      "Saved\n",
      "Time elapsed: 2:54:11.155127\n",
      "Epoch 39, CVaR, Train: 1.366 Valid: 1.266\n",
      "Time elapsed: 3:00:06.443155\n",
      "Epoch 40, CVaR, Train: 1.308 Valid: 1.306\n",
      "Time elapsed: 3:05:31.039857\n",
      "Epoch 41, CVaR, Train: 1.353 Valid: 1.336\n",
      "Time elapsed: 3:09:53.345946\n",
      "Epoch 42, CVaR, Train: 1.312 Valid: 1.308\n",
      "Time elapsed: 3:14:11.871628\n",
      "Epoch 43, CVaR, Train: 1.381 Valid: 1.301\n",
      "Time elapsed: 3:18:16.449097\n",
      "Epoch 44, CVaR, Train: 1.313 Valid: 1.328\n",
      "Time elapsed: 3:22:24.343532\n",
      "Epoch 45, CVaR, Train: 1.312 Valid: 1.383\n",
      "Time elapsed: 3:26:27.637632\n",
      "Epoch 46, CVaR, Train: 1.318 Valid: 1.280\n",
      "Time elapsed: 3:30:42.940320\n",
      "Epoch 47, CVaR, Train: 1.307 Valid: 1.421\n",
      "Time elapsed: 3:34:54.871066\n",
      "Epoch 48, CVaR, Train: 1.343 Valid: 1.296\n",
      "Time elapsed: 3:39:20.984975\n",
      "Epoch 49, CVaR, Train: 1.396 Valid: 2.116\n",
      "Time elapsed: 3:43:50.110885\n",
      "Epoch 50, CVaR, Train: 1.319 Valid: 1.379\n",
      "---Finished training results---\n",
      "Time elapsed: 3:43:50.111523\n",
      "---Training end---\n"
     ]
    },
    {
     "name": "stderr",
     "output_type": "stream",
     "text": [
      "INFO:tensorflow:Restoring parameters from RNNFNN_Reduced_2_dropout_50_CVaR_95_TC_0_Call_ATM_CashC_100.ckpt\n"
     ]
    },
    {
     "name": "stdout",
     "output_type": "stream",
     "text": [
      "-------------------------------------------------------------\n",
      "RNNFNN_Reduced_2_dropout_50_CVaR_95_TC_0_Call_ATM_CashC_100\n",
      "-------------------------------------------------------------\n",
      "---Inference start---\n",
      "---Inference end---\n",
      "--- Deep agent trained and stored in ../models/.. ---\n",
      "--- Hedging startegy stored in ../results/Trining/.. ---\n",
      "    Mean-HE  CVaR_95%  CVaR_99%       MSE      SMSE\n",
      "0 -0.380284  1.265812  2.312013  1.243237  0.183737\n"
     ]
    }
   ],
   "source": [
    "from src.utils import *\n",
    "from src.models.deep_rl_training import rl_agent\n",
    "\n",
    "config_file = load_config(os.path.join(main_folder,'cfgs','config_agent.yml'))\n",
    "config_file_agent = config_file[\"agent\"]\n",
    "\n",
    "config_file = load_config(os.path.join(main_folder,'cfgs','config_simulation.yml'))\n",
    "config_file_simulation = config_file[\"simulation\"]\n",
    "\n",
    "hedging_strategy = rl_agent(config_file_simulation,config_file_agent)"
   ]
  }
 ],
 "metadata": {
  "kernelspec": {
   "display_name": "venv",
   "language": "python",
   "name": "python3"
  },
  "language_info": {
   "codemirror_mode": {
    "name": "ipython",
    "version": 3
   },
   "file_extension": ".py",
   "mimetype": "text/x-python",
   "name": "python",
   "nbconvert_exporter": "python",
   "pygments_lexer": "ipython3",
   "version": "3.9.6"
  },
  "orig_nbformat": 4
 },
 "nbformat": 4,
 "nbformat_minor": 2
}
