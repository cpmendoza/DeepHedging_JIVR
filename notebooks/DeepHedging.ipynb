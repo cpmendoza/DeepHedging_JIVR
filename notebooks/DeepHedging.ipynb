{
  "cells": [
    {
      "cell_type": "markdown",
      "metadata": {
        "id": "DK_UdCzXJwQx"
      },
      "source": [
        "# Set environment"
      ]
    },
    {
      "cell_type": "code",
      "execution_count": 1,
      "metadata": {},
      "outputs": [],
      "source": [
        "import os, sys\n",
        "from pathlib import Path\n",
        "\n",
        "main_folder = str(Path.cwd().parent)\n",
        "sys.path.append(main_folder)\n",
        "\n",
        "import warnings\n",
        "warnings.filterwarnings(\"ignore\")"
      ]
    },
    {
      "cell_type": "markdown",
      "metadata": {},
      "source": [
        "# Load data"
      ]
    },
    {
      "cell_type": "code",
      "execution_count": 2,
      "metadata": {},
      "outputs": [],
      "source": [
        "from src.data.data_loader import *\n",
        "\n",
        "maturity = 63                         # Maturities: {21,63,126} \n",
        "isput = False                          # Put or Call: {True,False}\n",
        "moneyness = \"ATM\"                     # Moneyness options: {\"ATM\",\"ITM\",\"OTM\"}\n",
        "prepro_stock = \"Log\"                  # Price preprocessing {Log, Log-moneyness, Nothing}\n",
        "backtest = False                      # Backtest only includes inference procedure for real data\n",
        "sigma = None                          # Input value for GBM simulation \n",
        "\n",
        "# 0) Default parameters \n",
        "S_0         = 100                     # Initial stock price\n",
        "r           = 0.009713920000000001    # Annualized continuous risk-free rate\n",
        "q           = 0.01543706              # Annualized continuous dividend yield\n",
        "\n",
        "option, n_timesteps, paths, paths_valid, disc_batch, dividend_batch, V_0, V_test, strike = training_variables(maturity,moneyness,isput,prepro_stock,backtest,sigma)\n"
      ]
    },
    {
      "cell_type": "markdown",
      "metadata": {
        "id": "koUqHXQQlnb2"
      },
      "source": [
        "# Fit Deep agent"
      ]
    },
    {
      "cell_type": "code",
      "execution_count": 4,
      "metadata": {},
      "outputs": [],
      "source": [
        "# First layer of parameters \n",
        "network         = \"RNNFNN\"             # Neural network architecture {\"LSTM\",\"RNNFNN\",\"FFNN\"}\n",
        "state_space     = \"Reduced_2\"               # State space considered in the RL framework {\"Full\",\"Reduced_1\",\"Reduced_2\"}\n",
        "cash_constraint = False                # Boolean variable to include cash constraints {True,False}\n",
        "constraint_max  = 100                  # Cash constraint limit (positive number)\n",
        "nbs_point_traj  = paths.shape[0]       # time steps \n",
        "batch_size      = 1000                 # batch size {296,1000} \n",
        "nbs_input       = paths.shape[2]       # number of features\n",
        "nbs_units       = 56                   # neurons per layer/cell\n",
        "nbs_assets      = 1                    # number of hedging intruments\n",
        "loss_type       = \"CVaR\"               # loss function {\"CVaR\",\"MSE\",\"SMSE\"}\n",
        "lr              = 0.0005               # learning rate of the Adam optimizer\n",
        "dropout_par     = 0.5                  # dropout regularization parameter \n",
        "\n",
        "# Second layer of parameters\n",
        "paths           = paths                # Training set (normalized stock price and features)\n",
        "V_0             = V_0                  # Initial portfolio value for training set\n",
        "V_test          = V_test               # Initial portfolio value for validation set\n",
        "strikes         = strike               # Strike value of the option hedged \n",
        "disc_batch      = disc_batch           # Risk-free rate update factor exp(h*r)\n",
        "dividend_batch  = dividend_batch       # Dividend yield update factor exp(h*d)\n",
        "transaction_cost = 0                   # Proportional transaction cost [0,5/10000,5/1000,1/100]\n",
        "riskaversion    = 0.95                 # CVaR confidence level (0,1)\n",
        "paths_valid     = paths_valid          # Validation set (normalized stock price and features)\n",
        "epochs          = 50                   # Number of epochs, training iterations \n",
        "\n",
        "# Third layer of parameters\n",
        "display_plot    = True                 # Display plot of training and validation loss\n",
        "\n",
        "#Train the network\n",
        "from src.models.DeepRL_agent import train_network\n",
        "\n",
        "loss_train_epoch = train_network(network, state_space, nbs_point_traj, batch_size, nbs_input, nbs_units, nbs_assets, cash_constraint, constraint_max, loss_type, lr, dropout_par, paths, V_0, V_test, strikes, disc_batch,\n",
        "dividend_batch, transaction_cost, riskaversion, paths_valid, epochs, display_plot, option, moneyness, isput, prepro_stock)"
      ]
    },
    {
      "cell_type": "markdown",
      "metadata": {},
      "source": [
        "## Retrain network"
      ]
    },
    {
      "cell_type": "code",
      "execution_count": 6,
      "metadata": {},
      "outputs": [
        {
          "name": "stdout",
          "output_type": "stream",
          "text": [
            "-------------------------------------------------------------\n",
            "RNNFNN_dropout_50_CVaR_95_TC_0_Call_ATM_cons_-100\n",
            "-------------------------------------------------------------\n",
            "---Training start---\n",
            "INFO:tensorflow:Restoring parameters from RNNFNN_dropout_50_CVaR_95_TC_0_Call_ATM_cons_-100.ckpt\n",
            "Saved\n",
            "Time elapsed: 0:02:50.499412\n",
            "Epoch 1, CVaR, Train: 1.812 Valid: 1.763\n",
            "---Finished training results---\n",
            "Time elapsed: 0:02:50.499439\n",
            "---Training end---\n"
          ]
        }
      ],
      "source": [
        "# First layer of parameters \n",
        "network         = \"RNNFNN\"             # Neural network architecture {\"LSTM\",\"RNNFNN\",\"FFNN\"}\n",
        "nbs_point_traj  = paths.shape[0]       # time steps \n",
        "batch_size      = 1000                 # batch size {296,1000}\n",
        "nbs_input       = paths.shape[2]       # number of features\n",
        "nbs_units       = 56                   # neurons per layer/cell\n",
        "nbs_assets      = 1                    # number of hedging intruments\n",
        "constraint_min  = -5                   # lower bound for position in hedging instruments\n",
        "constraint_max  = -100                 # upper bound for position in hedging instruments\n",
        "loss_type       = \"CVaR\"               # loss function {\"CVaR\",\"MSE\",\"SMSE\"}\n",
        "lr              = 0.00005               # learning rate of the Adam optimizer\n",
        "dropout_par     = 0.50                 # dropout regularization parameter [0,0.25,0.6,0.8]\n",
        "\n",
        "# Second layer of parameters\n",
        "paths           = paths                # Training set (normalized stock price and features)\n",
        "V_0             = V_0                  # Initial portfolio value for training set\n",
        "V_test          = V_test               # Initial portfolio value for validation set\n",
        "strikes         = strike               # Strike value of the option hedged \n",
        "disc_batch      = disc_batch           # Risk-free rate update factor exp(h*r)\n",
        "dividend_batch  = dividend_batch       # Dividend yield update factor exp(h*d)\n",
        "transaction_cost = 0                   # Proportional transaction cost [0,1] [0,5/10000,5/1000,1/100]\n",
        "riskaversion    = 0.95                 # CVaR confidence level (0,1)\n",
        "paths_valid     = paths_valid          # Validation set (normalized stock price and features)\n",
        "epochs          = 1                    # Number of epochs, training iterations \n",
        "\n",
        "#Third layer of parameters\n",
        "display_plot    = False                # Display plot of training and validation loss\n",
        "\n",
        "#Train the network\n",
        "from src.models.Deep_agent_withoutV_CashConstraint_position import retrain_network\n",
        "\n",
        "loss_train_epoch = retrain_network(network, nbs_point_traj, batch_size, nbs_input, nbs_units, nbs_assets, constraint_min, constraint_max, loss_type, lr, dropout_par, paths, V_0, V_test, strikes, disc_batch,\n",
        "dividend_batch, transaction_cost, riskaversion, paths_valid, epochs, display_plot, option, moneyness, isput, prepro_stock)"
      ]
    },
    {
      "cell_type": "code",
      "execution_count": 9,
      "metadata": {},
      "outputs": [
        {
          "data": {
            "text/plain": [
              "126"
            ]
          },
          "execution_count": 9,
          "metadata": {},
          "output_type": "execute_result"
        }
      ],
      "source": [
        "maturity"
      ]
    },
    {
      "cell_type": "markdown",
      "metadata": {},
      "source": [
        "## Test network"
      ]
    },
    {
      "cell_type": "code",
      "execution_count": 4,
      "metadata": {},
      "outputs": [
        {
          "name": "stdout",
          "output_type": "stream",
          "text": [
            "-------------------------------------------------------------\n",
            "RNNFNN_Reduced_2_dropout_50_CVaR_95_TC_0_Call_ATM_NoCashC\n",
            "-------------------------------------------------------------\n",
            "---Inference start---\n",
            "INFO:tensorflow:Restoring parameters from RNNFNN_Reduced_2_dropout_50_CVaR_95_TC_0_Call_ATM_NoCashC.ckpt\n",
            "---Inference end---\n"
          ]
        }
      ],
      "source": [
        "# First layer of parameters \n",
        "network         = \"RNNFNN\"             # Neural network architecture {\"LSTM\",\"RNNFNN\",\"FFNN\"}\n",
        "state_space     = \"Reduced_2\"               # State space considered in the RL framework {\"Full\",\"Reduced_1\",\"Reduced_2\"}\n",
        "cash_constraint = False                 # Boolean variable to include cash constraints \n",
        "constraint_max  = 100                  # Cash constraint limit\n",
        "nbs_point_traj  = paths.shape[0]       # time steps \n",
        "batch_size      = 1000                 # batch size {296,1000}\n",
        "nbs_input       = paths.shape[2]       # number of features\n",
        "nbs_units       = 56                   # neurons per layer/cell\n",
        "nbs_assets      = 1                    # number of hedging intruments\n",
        "loss_type       = \"CVaR\"                # loss function {\"CVaR\",\"MSE\",\"SMSE\"}\n",
        "lr              = 0.0005               # learning rate of the Adam optimizer\n",
        "dropout_par     = 0.5                  # dropout regularization parameter \n",
        "\n",
        "# Second layer of parameters\n",
        "paths           = paths                # Training set (normalized stock price and features)\n",
        "V_0             = V_0                  # Initial portfolio value for training set\n",
        "V_test          = V_test               # Initial portfolio value for validation set\n",
        "strikes         = strike               # Strike value of the option hedged \n",
        "disc_batch      = disc_batch           # Risk-free rate update factor exp(h*r)\n",
        "dividend_batch  = dividend_batch       # Dividend yield update factor exp(h*d)\n",
        "transaction_cost = 0                   # Proportional transaction cost [0,5/10000,5/1000,1/100]\n",
        "riskaversion    = 0.95                  # CVaR confidence level (0,1)\n",
        "paths_valid     = paths_valid          # Validation set (normalized stock price and features)\n",
        "epochs          = 50                   # Number of epochs, training iterations \n",
        "\n",
        "# Third layer of parameters\n",
        "display_plot    = True                 # Display plot of training and validation loss\n",
        "\n",
        "#Train the network\n",
        "from src.models.DeepRL_agent import network_inference\n",
        "\n",
        "deltas_2 = network_inference(network, state_space, nbs_point_traj, batch_size, nbs_input, nbs_units, nbs_assets, cash_constraint, constraint_max, loss_type, lr, dropout_par, V_test, strikes, disc_batch,\n",
        "dividend_batch, transaction_cost, riskaversion, paths_valid, option, moneyness, isput, prepro_stock, backtest)"
      ]
    },
    {
      "cell_type": "code",
      "execution_count": 5,
      "metadata": {},
      "outputs": [
        {
          "data": {
            "text/html": [
              "<div>\n",
              "<style scoped>\n",
              "    .dataframe tbody tr th:only-of-type {\n",
              "        vertical-align: middle;\n",
              "    }\n",
              "\n",
              "    .dataframe tbody tr th {\n",
              "        vertical-align: top;\n",
              "    }\n",
              "\n",
              "    .dataframe thead th {\n",
              "        text-align: right;\n",
              "    }\n",
              "</style>\n",
              "<table border=\"1\" class=\"dataframe\">\n",
              "  <thead>\n",
              "    <tr style=\"text-align: right;\">\n",
              "      <th></th>\n",
              "      <th>Mean-HE</th>\n",
              "      <th>CVaR_95%</th>\n",
              "      <th>CVaR_99%</th>\n",
              "      <th>MSE</th>\n",
              "      <th>SMSE</th>\n",
              "    </tr>\n",
              "  </thead>\n",
              "  <tbody>\n",
              "    <tr>\n",
              "      <th>0</th>\n",
              "      <td>-0.539224</td>\n",
              "      <td>1.665353</td>\n",
              "      <td>2.919304</td>\n",
              "      <td>53.512324</td>\n",
              "      <td>0.297175</td>\n",
              "    </tr>\n",
              "  </tbody>\n",
              "</table>\n",
              "</div>"
            ],
            "text/plain": [
              "    Mean-HE  CVaR_95%  CVaR_99%        MSE      SMSE\n",
              "0 -0.539224  1.665353  2.919304  53.512324  0.297175"
            ]
          },
          "execution_count": 5,
          "metadata": {},
          "output_type": "execute_result"
        }
      ],
      "source": [
        "### With V\n",
        "from src.visualization.Strategy_evaluation import hedging_valuation\n",
        "close_limit_days = 0\n",
        "hedging_portfolio_2, hedging_error_2, hedging_error_limit_2, cost_limit, option_price_2, df_statistic_TC, df_cost_functions = hedging_valuation(backtest, strikes, deltas_2, transaction_cost, isput, close_limit_days, sigma)\n",
        "#df_cost_functions.to_csv(\"Results.csv\")\n",
        "df_cost_functions"
      ]
    },
    {
      "cell_type": "markdown",
      "metadata": {},
      "source": [
        "## Multiple training"
      ]
    },
    {
      "cell_type": "markdown",
      "metadata": {},
      "source": [
        "### Multiple training"
      ]
    },
    {
      "cell_type": "code",
      "execution_count": 6,
      "metadata": {},
      "outputs": [
        {
          "name": "stdout",
          "output_type": "stream",
          "text": [
            "-------------------------------------------------------------\n",
            "RNNFNN_dropout_50_CVaR_95_TC_1.0_Call_ATM_cons_-100\n",
            "-------------------------------------------------------------\n",
            "---Training start---\n",
            "INFO:tensorflow:Restoring parameters from RNNFNN_dropout_50_CVaR_95_TC_1.0_Call_ATM_cons_-100.ckpt\n",
            "Saved\n",
            "Time elapsed: 0:02:52.684833\n",
            "Epoch 1, CVaR, Train: 3.531 Valid: 3.416\n",
            "Saved\n",
            "Time elapsed: 0:05:30.014257\n",
            "Epoch 2, CVaR, Train: 3.543 Valid: 3.387\n",
            "Time elapsed: 0:08:05.428929\n",
            "Epoch 3, CVaR, Train: 3.496 Valid: 3.414\n",
            "---Finished training results---\n",
            "Time elapsed: 0:08:05.429020\n",
            "---Training end---\n",
            "-------------------------------------------------------------\n",
            "RNNFNN_dropout_50_SMSE_TC_1.0_Call_ATM_cons_-100\n",
            "-------------------------------------------------------------\n",
            "---Training start---\n",
            "INFO:tensorflow:Restoring parameters from RNNFNN_dropout_50_SMSE_TC_1.0_Call_ATM_cons_-100.ckpt\n",
            "Saved\n",
            "Time elapsed: 0:02:53.225346\n",
            "Epoch 1, SMSE, Train: 1.752 Valid: 1.704\n",
            "Saved\n",
            "Time elapsed: 0:05:34.279555\n",
            "Epoch 2, SMSE, Train: 1.736 Valid: 1.656\n",
            "Time elapsed: 0:08:14.906414\n",
            "Epoch 3, SMSE, Train: 1.746 Valid: 1.721\n",
            "---Finished training results---\n",
            "Time elapsed: 0:08:14.906507\n",
            "---Training end---\n"
          ]
        }
      ],
      "source": [
        "from src.data.data_loader import *\n",
        "\n",
        "for maturity in [63]:                             # Maturities: {21,63,126}\n",
        "\n",
        "    list_option = [False] if maturity==63 else [False]\n",
        "    list_moneyness = [\"ATM\"] #[\"ATM\",\"ITM\",\"OTM\"] if maturity==63 else [\"ATM\"]\n",
        "\n",
        "    for isput in list_option:                    # Put or Call: {True,False}\n",
        "        \n",
        "        for moneyness in [\"ATM\"]:     # Moneyness options: {\"ATM\",\"ITM\",\"OTM\"}\n",
        "            prepro_stock = \"Log\"                  # Price preprocessing {Log, Log-moneyness, Nothing}\n",
        "            backtest = False                      # Backtest only includes inference procedure for real data\n",
        "\n",
        "            # 0) Default parameters \n",
        "            S_0         = 100                     # Initial stock price\n",
        "            r           = 0.009713920000000001    # Annualized continuous risk-free rate\n",
        "            q           = 0.01543706              # Annualized continuous dividend yield\n",
        "\n",
        "            option, n_timesteps, paths, paths_valid, disc_batch, dividend_batch, V_0, V_test, strike = training_variables(maturity,moneyness,isput,prepro_stock,backtest)\n",
        "\n",
        "\n",
        "            # First layer of parameters \n",
        "            network         = \"RNNFNN\"             # Neural network architecture {\"LSTM\",\"RNNFNN\",\"FFNN\"}\n",
        "            nbs_point_traj  = paths.shape[0]       # time steps \n",
        "            batch_size      = 1000                 # batch size {296,1000}\n",
        "            nbs_input       = paths.shape[2]       # number of features\n",
        "            nbs_units       = 56                   # neurons per layer/cell\n",
        "            nbs_assets      = 1                    # number of hedging intruments\n",
        "            constraint_min  = 0                    # lower bound for position in hedging instruments\n",
        "            constraint_max  = -100                 # upper bound for position in hedging instruments\n",
        "\n",
        "            for dropout_par in [0.5]:              # dropout regularization parameter\n",
        "\n",
        "                if moneyness == \"ATM\":\n",
        "                    transaction_range = [1/100] if maturity==63 else [5/10000] #[0,5/10000,5/1000,1/100]\n",
        "                else:\n",
        "                    transaction_range =  [0]\n",
        "\n",
        "                for transaction_cost in transaction_range:\n",
        "\n",
        "                    idx = 0\n",
        "                    for loss_type in [\"CVaR\",\"SMSE\"]:\n",
        "                        if idx == 0:\n",
        "                            riskaversion    = 0.95             # CVaR confidence level (0,1)\n",
        "                            idx += 1\n",
        "                        else:\n",
        "                            riskaversion    = 0.99\n",
        "\n",
        "                        lr              = 0.0005               # learning rate of the Adam optimizer\n",
        "                        # Second layer of parameters\n",
        "                        paths           = paths                # Training set (normalized stock price and features)\n",
        "                        V_0             = V_0                  # Initial portfolio value for training set\n",
        "                        V_test          = V_test               # Initial portfolio value for validation set\n",
        "                        strikes         = strike               # Strike value of the option hedged \n",
        "                        disc_batch      = disc_batch           # Risk-free rate update factor exp(h*r)\n",
        "                        dividend_batch  = dividend_batch       # Dividend yield update factor exp(h*d)\n",
        "\n",
        "                              \n",
        "                        paths_valid     = paths_valid      # Validation set (normalized stock price and features)\n",
        "                        epochs          = 3                # Number of epochs, training iterations \n",
        "\n",
        "                        # Third layer of parameters\n",
        "                        display_plot    = False            # Display plot of training and validation loss\n",
        "\n",
        "                        #Train the network\n",
        "                        from src.models.Deep_agent_withoutV_CashConstraint_position import retrain_network #train_network\n",
        "\n",
        "                        loss_train_epoch = retrain_network(network, nbs_point_traj, batch_size, nbs_input, nbs_units, nbs_assets, constraint_min, constraint_max, loss_type, lr, dropout_par, paths, V_0, V_test, strikes, disc_batch,\n",
        "                                            dividend_batch, transaction_cost, riskaversion, paths_valid, epochs, display_plot, option, moneyness, isput, prepro_stock)"
      ]
    },
    {
      "cell_type": "markdown",
      "metadata": {},
      "source": [
        "### Multiple inference"
      ]
    },
    {
      "cell_type": "code",
      "execution_count": 2,
      "metadata": {},
      "outputs": [
        {
          "name": "stdout",
          "output_type": "stream",
          "text": [
            "-------------------------------------------------------------\n",
            "RNNFNN_dropout_50_CVaR_95_TC_0_Call_ATM_cons_-100\n",
            "-------------------------------------------------------------\n",
            "---Inference start---\n",
            "INFO:tensorflow:Restoring parameters from RNNFNN_dropout_50_CVaR_95_TC_0_Call_ATM_cons_-100.ckpt\n"
          ]
        },
        {
          "name": "stderr",
          "output_type": "stream",
          "text": [
            "2024-03-26 12:15:47.983070: I tensorflow/compiler/mlir/mlir_graph_optimization_pass.cc:382] MLIR V1 optimization pass is not enabled\n"
          ]
        },
        {
          "name": "stdout",
          "output_type": "stream",
          "text": [
            "---Inference end---\n",
            "-------------------------------------------------------------\n",
            "RNNFNN_dropout_50_CVaR_99_TC_0_Call_ATM_cons_-100\n",
            "-------------------------------------------------------------\n",
            "---Inference start---\n",
            "INFO:tensorflow:Restoring parameters from RNNFNN_dropout_50_CVaR_99_TC_0_Call_ATM_cons_-100.ckpt\n",
            "---Inference end---\n",
            "-------------------------------------------------------------\n",
            "RNNFNN_dropout_50_MSE_TC_0_Call_ATM_cons_-100\n",
            "-------------------------------------------------------------\n",
            "---Inference start---\n",
            "INFO:tensorflow:Restoring parameters from RNNFNN_dropout_50_MSE_TC_0_Call_ATM_cons_-100.ckpt\n",
            "---Inference end---\n",
            "-------------------------------------------------------------\n",
            "RNNFNN_dropout_50_SMSE_TC_0_Call_ATM_cons_-100\n",
            "-------------------------------------------------------------\n",
            "---Inference start---\n",
            "INFO:tensorflow:Restoring parameters from RNNFNN_dropout_50_SMSE_TC_0_Call_ATM_cons_-100.ckpt\n",
            "---Inference end---\n"
          ]
        }
      ],
      "source": [
        "from src.data.data_loader import *\n",
        "from src.models.Deep_agent_withoutV_CashConstraint import network_inference\n",
        "from src.visualization.Strategy_evaluation import hedging_valuation\n",
        "import pandas as pd\n",
        "\n",
        "df_results = pd.DataFrame()\n",
        "close_limit_days = 0\n",
        "for maturity in [63]:                                        # Maturities: {21,63,126}\n",
        "\n",
        "    list_option = [False] if maturity==63 else [False]\n",
        "    list_moneyness = [\"ATM\"] if maturity==63 else [\"ATM\"]\n",
        "\n",
        "    for isput in list_option:                                    # Put or Call: {True,False}\n",
        "        \n",
        "        for moneyness in list_moneyness:                         # Moneyness options: {\"ATM\",\"ITM\",\"OTM\"}\n",
        "            prepro_stock = \"Log\"                                 # Price preprocessing {Log, Log-moneyness, Nothing}\n",
        "            backtest = False                                     # Backtest only includes inference procedure for real data\n",
        "\n",
        "            # 0) Default parameters \n",
        "            S_0         = 100                                    # Initial stock price\n",
        "            r           = 0.009713920000000001                   # Annualized continuous risk-free rate\n",
        "            q           = 0.01543706                             # Annualized continuous dividend yield\n",
        "\n",
        "            option, n_timesteps, paths, paths_valid, disc_batch, dividend_batch, V_0, V_test, strike = training_variables(maturity,moneyness,isput,prepro_stock,backtest)\n",
        "\n",
        "            # First layer of parameters \n",
        "            for network in [\"RNNFNN\"]:   # Neural network architecture {\"LSTM\",\"RNNFNN\",\"FFNN\"}\n",
        "                nbs_point_traj  = paths_valid.shape[0]                # time steps \n",
        "                batch_size      = 1000 if backtest != True else 296   # batch size {296,1000}\n",
        "                nbs_input       = paths_valid.shape[2]                # number of features\n",
        "                nbs_units       = 56                                  # neurons per layer/cell\n",
        "                nbs_assets      = 1                                   # number of hedging intruments\n",
        "                constraint_min  = -5                                  # lower bound for position in hedging instruments\n",
        "                constraint_max  = -100                                # upper bound for position in hedging instruments\n",
        "                            \n",
        "                for dropout_par in [0.5]:                             # dropout regularization parameter\n",
        "\n",
        "                    if moneyness == \"ATM\":\n",
        "                        transaction_range = [0] if maturity==63 else [0] #[0,5/10000,5/1000,1/100]\n",
        "                    else:\n",
        "                        transaction_range =  [0]\n",
        "\n",
        "                    for transaction_cost in transaction_range:    # Proportional transaction cost [0,1]  \n",
        "\n",
        "                        idx = 0\n",
        "                        for loss_type in [\"CVaR\",\"CVaR\",\"MSE\",\"SMSE\"]:    # loss function {\"CVaR\",\"MSE\",\"SMSE\" [\"CVaR\",\"CVaR\",\"MSE\",\"SMSE\"]\n",
        "                            lr              = 0.0005                      # learning rate of the Adam optimizer\n",
        "                            \n",
        "                            # Second layer of parameters\n",
        "                            paths           = paths                           # Training set (normalized stock price and features)\n",
        "                            V_0             = V_0                             # Initial portfolio value for training set\n",
        "                            V_test          = V_test                          # Initial portfolio value for validation set\n",
        "                            strikes         = strike                          # Strike value of the option hedged \n",
        "                            disc_batch      = disc_batch                      # Risk-free rate update factor exp(h*r)\n",
        "                            dividend_batch  = dividend_batch                  # Dividend yield update factor exp(h*d)\n",
        "                            if idx == 0:\n",
        "                                riskaversion    = 0.95                    # CVaR confidence level (0,1)\n",
        "                                idx += 1\n",
        "                            else:\n",
        "                                riskaversion    = 0.99                    # CVaR confidence level (0,1)\n",
        "                            paths_valid     = paths_valid                 # Validation set (normalized stock price and features)\n",
        "                            epochs          = 50                          # Number of epochs, training iterations \n",
        "\n",
        "                            # Third layer of parameters\n",
        "                            display_plot    = False\n",
        "                                \n",
        "                            #Network inference\n",
        "                            deltas = network_inference(network, nbs_point_traj, batch_size, nbs_input, nbs_units, nbs_assets, constraint_min, constraint_max, loss_type, lr, dropout_par, V_test, strikes, disc_batch,\n",
        "                            dividend_batch, transaction_cost, riskaversion, paths_valid, option, moneyness, isput, prepro_stock, backtest)\n",
        "\n",
        "                            #Test result\n",
        "                            hedging_portfolio, hedging_error, hedging_error_limit, cost_limit, option_price, df_statistic_TC, df_cost_functions = hedging_valuation(backtest, strikes, deltas, transaction_cost, isput, close_limit_days)\n",
        "                            df_results = pd.concat([df_results,df_cost_functions])\n"
      ]
    },
    {
      "cell_type": "code",
      "execution_count": 9,
      "metadata": {},
      "outputs": [],
      "source": [
        "#df_results.to_csv(\"Results_tc_position.csv\")"
      ]
    },
    {
      "cell_type": "code",
      "execution_count": 4,
      "metadata": {},
      "outputs": [
        {
          "data": {
            "text/html": [
              "<div>\n",
              "<style scoped>\n",
              "    .dataframe tbody tr th:only-of-type {\n",
              "        vertical-align: middle;\n",
              "    }\n",
              "\n",
              "    .dataframe tbody tr th {\n",
              "        vertical-align: top;\n",
              "    }\n",
              "\n",
              "    .dataframe thead th {\n",
              "        text-align: right;\n",
              "    }\n",
              "</style>\n",
              "<table border=\"1\" class=\"dataframe\">\n",
              "  <thead>\n",
              "    <tr style=\"text-align: right;\">\n",
              "      <th></th>\n",
              "      <th>Mean-HE</th>\n",
              "      <th>CVaR_95%</th>\n",
              "      <th>CVaR_99%</th>\n",
              "      <th>MSE</th>\n",
              "      <th>SMSE</th>\n",
              "    </tr>\n",
              "  </thead>\n",
              "  <tbody>\n",
              "    <tr>\n",
              "      <th>0</th>\n",
              "      <td>-0.402993</td>\n",
              "      <td>1.724209</td>\n",
              "      <td>3.013200</td>\n",
              "      <td>2.028539</td>\n",
              "      <td>0.279844</td>\n",
              "    </tr>\n",
              "    <tr>\n",
              "      <th>0</th>\n",
              "      <td>-0.362350</td>\n",
              "      <td>1.824076</td>\n",
              "      <td>2.941826</td>\n",
              "      <td>2.314383</td>\n",
              "      <td>0.334442</td>\n",
              "    </tr>\n",
              "    <tr>\n",
              "      <th>0</th>\n",
              "      <td>-0.321332</td>\n",
              "      <td>2.019133</td>\n",
              "      <td>3.599060</td>\n",
              "      <td>0.963429</td>\n",
              "      <td>0.324586</td>\n",
              "    </tr>\n",
              "    <tr>\n",
              "      <th>0</th>\n",
              "      <td>-0.385512</td>\n",
              "      <td>1.802699</td>\n",
              "      <td>3.181414</td>\n",
              "      <td>1.168127</td>\n",
              "      <td>0.265277</td>\n",
              "    </tr>\n",
              "  </tbody>\n",
              "</table>\n",
              "</div>"
            ],
            "text/plain": [
              "    Mean-HE  CVaR_95%  CVaR_99%       MSE      SMSE\n",
              "0 -0.402993  1.724209  3.013200  2.028539  0.279844\n",
              "0 -0.362350  1.824076  2.941826  2.314383  0.334442\n",
              "0 -0.321332  2.019133  3.599060  0.963429  0.324586\n",
              "0 -0.385512  1.802699  3.181414  1.168127  0.265277"
            ]
          },
          "execution_count": 4,
          "metadata": {},
          "output_type": "execute_result"
        }
      ],
      "source": [
        "df_results"
      ]
    },
    {
      "cell_type": "markdown",
      "metadata": {},
      "source": [
        "## SAGE values"
      ]
    },
    {
      "cell_type": "code",
      "execution_count": 2,
      "metadata": {},
      "outputs": [
        {
          "name": "stdout",
          "output_type": "stream",
          "text": [
            "Call_OTM_21_CVaR_95\n"
          ]
        },
        {
          "ename": "TypeError",
          "evalue": "sage_network() missing 1 required positional argument: 'prepro_stock'",
          "output_type": "error",
          "traceback": [
            "\u001b[0;31m---------------------------------------------------------------------------\u001b[0m",
            "\u001b[0;31mTypeError\u001b[0m                                 Traceback (most recent call last)",
            "Cell \u001b[0;32mIn[2], line 61\u001b[0m\n\u001b[1;32m     58\u001b[0m \u001b[39mprint\u001b[39m(option_name \u001b[39m+\u001b[39m \u001b[39m'\u001b[39m\u001b[39m_\u001b[39m\u001b[39m'\u001b[39m \u001b[39m+\u001b[39m moneyness \u001b[39m+\u001b[39m \u001b[39m'\u001b[39m\u001b[39m_\u001b[39m\u001b[39m'\u001b[39m \u001b[39m+\u001b[39m \u001b[39mstr\u001b[39m(maturity)  \u001b[39m+\u001b[39m \u001b[39m'\u001b[39m\u001b[39m_\u001b[39m\u001b[39m'\u001b[39m \u001b[39m+\u001b[39m loss_type \u001b[39m+\u001b[39m \u001b[39m'\u001b[39m\u001b[39m_\u001b[39m\u001b[39m'\u001b[39m \u001b[39m+\u001b[39m \u001b[39mstr\u001b[39m(\u001b[39mint\u001b[39m(riskaversion\u001b[39m*\u001b[39m\u001b[39m100\u001b[39m)))\n\u001b[1;32m     60\u001b[0m \u001b[39mfrom\u001b[39;00m \u001b[39msrc\u001b[39;00m\u001b[39m.\u001b[39;00m\u001b[39mmodels\u001b[39;00m\u001b[39m.\u001b[39;00m\u001b[39mDeepRL_agent\u001b[39;00m \u001b[39mimport\u001b[39;00m sage_network\n\u001b[0;32m---> 61\u001b[0m loss_train_epoch \u001b[39m=\u001b[39m sage_network(network, nbs_point_traj, batch_size, nbs_input, nbs_units, nbs_assets, constraint_min, constraint_max, loss_type, lr, dropout_par, paths, V_0, V_test, strikes, disc_batch,\n\u001b[1;32m     62\u001b[0m dividend_batch, transaction_cost, riskaversion, paths_valid, epochs, display_plot, option, moneyness, isput, prepro_stock)\n\u001b[1;32m     64\u001b[0m \u001b[39m#Save SAGE\u001b[39;00m\n\u001b[1;32m     65\u001b[0m name \u001b[39m=\u001b[39m option_name \u001b[39m+\u001b[39m \u001b[39m'\u001b[39m\u001b[39m_\u001b[39m\u001b[39m'\u001b[39m \u001b[39m+\u001b[39m moneyness \u001b[39m+\u001b[39m \u001b[39m'\u001b[39m\u001b[39m_\u001b[39m\u001b[39m'\u001b[39m \u001b[39m+\u001b[39m \u001b[39mstr\u001b[39m(maturity)  \u001b[39m+\u001b[39m \u001b[39m'\u001b[39m\u001b[39m_\u001b[39m\u001b[39m'\u001b[39m \u001b[39m+\u001b[39m loss_type \u001b[39m+\u001b[39m \u001b[39m'\u001b[39m\u001b[39m_\u001b[39m\u001b[39m'\u001b[39m \u001b[39m+\u001b[39m \u001b[39mstr\u001b[39m(\u001b[39mint\u001b[39m(riskaversion\u001b[39m*\u001b[39m\u001b[39m100\u001b[39m)) \u001b[39m+\u001b[39m \u001b[39m'\u001b[39m\u001b[39m_\u001b[39m\u001b[39m'\u001b[39m \u001b[39m+\u001b[39m \u001b[39m'\u001b[39m\u001b[39m_SAGE.csv\u001b[39m\u001b[39m'\u001b[39m \u001b[39m# \u001b[39;00m\n",
            "\u001b[0;31mTypeError\u001b[0m: sage_network() missing 1 required positional argument: 'prepro_stock'"
          ]
        }
      ],
      "source": [
        "from src.data.data_loader import *\n",
        "import pandas as pd\n",
        "\n",
        "directory = os.path.join(main_folder,'data','results','SAGE')\n",
        "\n",
        "maturity = 21                             # Maturities: {21,63,126} \n",
        "for isput in [False]:                     # Put or Call: {True,False}\n",
        "    for moneyness in [\"OTM\"]: # Moneyness options: {\"ATM\",\"ITM\",\"OTM\"}\n",
        "        prepro_stock = \"Log\"                  # Price preprocessing {Log, Log-moneyness, Nothing}\n",
        "        backtest = False                      # Backtest only includes inference procedure for real data\n",
        "        sigma = None                          # Input value for GBM simulation \n",
        "\n",
        "        # 0) Default parameters \n",
        "        S_0         = 100                     # Initial stock price\n",
        "        r           = 0.009713920000000001    # Annualized continuous risk-free rate\n",
        "        q           = 0.01543706              # Annualized continuous dividend yield\n",
        "\n",
        "        option, n_timesteps, paths, paths_valid, disc_batch, dividend_batch, V_0, V_test, strike = training_variables(maturity,moneyness,isput,prepro_stock,backtest,sigma)\n",
        "\n",
        "        # First layer of parameters \n",
        "        network         = \"RNNFNN\"             # Neural network architecture {\"LSTM\",\"RNNFNN\",\"FFNN\"}\n",
        "        state_space     = \"Reduced_2\"          # State space considered in the RL framework {\"Full\",\"Reduced_1\",\"Reduced_2\"}\n",
        "        cash_constraint  = True                   # lower bound for position in hedging instruments\n",
        "        constraint_max  = 100                 # upper bound for position in hedging instruments \n",
        "        nbs_point_traj  = paths.shape[0]       # time steps \n",
        "        batch_size      = 1000                 # batch size {296,1000}\n",
        "        nbs_input       = paths.shape[2]       # number of features\n",
        "        nbs_units       = 56                   # neurons per layer/cell\n",
        "        nbs_assets      = 1                    # number of hedging intruments\n",
        "        loss_type       = \"MSE\"                \n",
        "\n",
        "        idx = 0\n",
        "        for loss_type in [\"CVaR\"]: # loss function [\"CVaR\",\"CVaR\",\"MSE\",\"SMSE\"]\n",
        "            if idx == 0:\n",
        "                riskaversion    = 0.95                    # CVaR confidence level (0,1)\n",
        "                idx += 1\n",
        "            else:\n",
        "                riskaversion    = 0.99\n",
        "            lr              = 0.0005               # learning rate of the Adam optimizer\n",
        "            dropout_par     = 0.5                  # dropout regularization parameter \n",
        "\n",
        "            # Second layer of parameters\n",
        "            paths           = paths                # Training set (normalized stock price and features)\n",
        "            V_0             = V_0                  # Initial portfolio value for training set\n",
        "            V_test          = V_test               # Initial portfolio value for validation set\n",
        "            strikes         = strike               # Strike value of the option hedged \n",
        "            disc_batch      = disc_batch           # Risk-free rate update factor exp(h*r)\n",
        "            dividend_batch  = dividend_batch       # Dividend yield update factor exp(h*d)\n",
        "            transaction_cost = 0                   # Proportional transaction cost [0,1]\n",
        "            paths_valid     = paths_valid          # Validation set (normalized stock price and features)\n",
        "            epochs          = 10                   # Number of epochs, training iterations \n",
        "\n",
        "            # Third layer of parameters\n",
        "            display_plot    = True                 # Display plot of training and validation loss\n",
        "\n",
        "            #Train the network\n",
        "\n",
        "            option_name = \"Call\" if isput==False else \"Put\"\n",
        "            print(option_name + '_' + moneyness + '_' + str(maturity)  + '_' + loss_type + '_' + str(int(riskaversion*100)))\n",
        "            \n",
        "            from src.models.DeepRL_agent import sage_network\n",
        "            loss_train_epoch = sage_network(network, state_space, nbs_point_traj, batch_size, nbs_input, nbs_units, nbs_assets, cash_constraint, constraint_max, loss_type, lr, dropout_par, paths, V_0, V_test, strikes, disc_batch,\n",
        "            dividend_batch, transaction_cost, riskaversion, paths_valid, epochs, display_plot, option, moneyness, isput, prepro_stock)\n",
        "\n",
        "            #Save SAGE\n",
        "            name = option_name + '_' + moneyness + '_' + str(maturity)  + '_' + loss_type + '_' + str(int(riskaversion*100)) + '_' + '_SAGE.csv' # \n",
        "            pd.DataFrame(loss_train_epoch).to_csv(os.path.join(directory,name))"
      ]
    }
  ],
  "metadata": {
    "accelerator": "GPU",
    "colab": {
      "collapsed_sections": [
        "0pxt5rBVIF3d",
        "9dOa-KkiIPUk",
        "koUqHXQQlnb2",
        "zEiLdFv7JLyy",
        "PCxIkGVp_8m6",
        "O_HPq_Jp5eRf",
        "LgV5lh4lHAWf",
        "5Y5FB-H0YH7d",
        "y9IaL_KqfaMY"
      ],
      "machine_shape": "hm",
      "provenance": []
    },
    "gpuClass": "standard",
    "kernelspec": {
      "display_name": "Python 3",
      "name": "python3"
    },
    "language_info": {
      "codemirror_mode": {
        "name": "ipython",
        "version": 3
      },
      "file_extension": ".py",
      "mimetype": "text/x-python",
      "name": "python",
      "nbconvert_exporter": "python",
      "pygments_lexer": "ipython3",
      "version": "3.9.6"
    }
  },
  "nbformat": 4,
  "nbformat_minor": 0
}
